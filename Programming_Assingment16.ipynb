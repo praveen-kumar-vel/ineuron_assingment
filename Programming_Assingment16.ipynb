{
 "cells": [
  {
   "cell_type": "markdown",
   "metadata": {},
   "source": [
    "Question1. \n",
    "\n",
    "Write a function that stutters a word as if someone is struggling to read it. The first two letters are repeated twice with an ellipsis ... and space after each, and then the word is pronounced with a question mark ?.\n",
    "\n",
    "\n",
    "Examples\n",
    "\n",
    "\n",
    "stutter(\"incredible\") ➞ \"in... in... incredible?\"\n",
    "\n",
    "\n",
    "stutter(\"enthusiastic\") ➞ \"en... en... enthusiastic?\"\n",
    "\n",
    "\n",
    "stutter(\"outstanding\") ➞ \"ou... ou... outstanding?\"\n",
    "\n",
    "\n",
    "Hint :- Assume all input is in lower case and at least two characters long.\n"
   ]
  },
  {
   "cell_type": "code",
   "execution_count": 2,
   "metadata": {},
   "outputs": [
    {
     "name": "stdout",
     "output_type": "stream",
     "text": [
      "in...in...incredible\n",
      "en...en...enthusiastic\n",
      "ou...ou...outstanding\n"
     ]
    }
   ],
   "source": [
    "def stutter(letr):\n",
    "    first_two = letr[0:2]\n",
    "    first_two = str(first_two) +\"...\"\n",
    "    final_string = \"\"\n",
    "    final_string = (first_two * 2) + letr\n",
    "    return final_string\n",
    "\n",
    "print(stutter(\"incredible\"))    \n",
    "print(stutter(\"enthusiastic\"))    \n",
    "print(stutter(\"outstanding\"))    \n",
    "\n",
    "    "
   ]
  },
  {
   "cell_type": "markdown",
   "metadata": {},
   "source": [
    "***"
   ]
  },
  {
   "cell_type": "markdown",
   "metadata": {},
   "source": [
    "\n",
    "Question 2.\n",
    "\n",
    "Create a function that takes an angle in radians and returns the corresponding angle in degrees rounded to one decimal place.\n",
    "\n",
    "\n",
    "Examples\n",
    "\n",
    "\n",
    "radians_to_degrees(1) ➞ 57.3\n",
    "\n",
    "\n",
    "radians_to_degrees(20) ➞ 1145.9\n",
    "\n",
    "radians_to_degrees(50) ➞ 2864.8\n",
    "\n",
    "\n"
   ]
  },
  {
   "cell_type": "code",
   "execution_count": 5,
   "metadata": {},
   "outputs": [
    {
     "name": "stdout",
     "output_type": "stream",
     "text": [
      "radians_to_degrees(1) 57.3\n",
      "radians_to_degrees(20) 1145.9\n",
      "radians_to_degrees(50) 2864.8\n"
     ]
    }
   ],
   "source": [
    "def radians_to_degrees(radian):\n",
    "    pi = 3.14159\n",
    "    degree = radian * (180/pi)\n",
    "    degree = round(degree,1)\n",
    "    return degree\n",
    " \n",
    "print(\"radians_to_degrees(1)\",radians_to_degrees(1))\n",
    "print(\"radians_to_degrees(20)\",radians_to_degrees(20))\n",
    "print(\"radians_to_degrees(50)\",radians_to_degrees(50))"
   ]
  },
  {
   "cell_type": "markdown",
   "metadata": {},
   "source": [
    "***"
   ]
  },
  {
   "cell_type": "markdown",
   "metadata": {},
   "source": [
    "Question 3.\n",
    "\n",
    "In this challenge, establish if a given integer num is a Curzon number. If 1 plus 2 elevated to num is exactly divisible by 1 plus 2 multiplied by num, then num is a Curzon number.\n",
    "Given a non-negative integer num, implement a function that returns True if num is a Curzon number, or False otherwise.\n",
    "\n",
    "Examples\n",
    "\n",
    "is_curzon(5) ➞ True\n",
    " 2 ** 5 + 1 = 33\n",
    " 2 * 5 + 1 = 11\n",
    " 33 is a multiple of 11\n",
    "\n",
    "is_curzon(10) ➞ False\n",
    "2 ** 10 + 1 = 1025\n",
    "2 * 10 + 1 = 21\n",
    "1025 is not a multiple of 21\n",
    "\n",
    "is_curzon(14) ➞ True\n",
    "2 ** 14 + 1 = 16385\n",
    "2 * 14 + 1 = 29\n",
    "16385 is a multiple of 29\n"
   ]
  },
  {
   "cell_type": "code",
   "execution_count": 5,
   "metadata": {},
   "outputs": [
    {
     "name": "stdout",
     "output_type": "stream",
     "text": [
      "Enter Number :14\n",
      "True\n"
     ]
    }
   ],
   "source": [
    "def checkIfCurzonNumber(N):\n",
    "\n",
    "    powerTerm, productTerm = 0, 0\n",
    "\n",
    "    # Find 2^N + 1\n",
    "    powerTerm = pow(2, N) + 1\n",
    "\n",
    "    # Find 2*N + 1\n",
    "    productTerm = 2 * N + 1\n",
    "\n",
    "    # Check for divisibility\n",
    "    if (powerTerm % productTerm == 0):\n",
    "        print(\"True\")\n",
    "    else:\n",
    "        print(\"False\")\n",
    "\n",
    "num = int(input(\"Enter Number :\"))\n",
    "checkIfCurzonNumber(num)"
   ]
  },
  {
   "cell_type": "markdown",
   "metadata": {},
   "source": [
    "***"
   ]
  },
  {
   "cell_type": "markdown",
   "metadata": {},
   "source": [
    "Question 4.Given the side length x find the area of a hexagon.\n",
    " \n",
    "Examples\n",
    "area_of_hexagon(1) ➞ 2.6\n",
    "\n",
    "area_of_hexagon(2) ➞ 10.4\n",
    "\n",
    "area_of_hexagon(3) ➞ 23.4\n"
   ]
  },
  {
   "cell_type": "code",
   "execution_count": 8,
   "metadata": {},
   "outputs": [
    {
     "name": "stdout",
     "output_type": "stream",
     "text": [
      "Enter the length of the side:\n",
      "2\n",
      "Area of the Hexagon =  10.4\n"
     ]
    }
   ],
   "source": [
    "import math\n",
    "print(\"Enter the length of the side:\")\n",
    "a=int(input())\n",
    "area=(3*math.sqrt(3)*math.pow(a,2))/2.0\n",
    "print(\"Area of the Hexagon = \",round(area,1))\n"
   ]
  },
  {
   "cell_type": "markdown",
   "metadata": {},
   "source": [
    "***"
   ]
  },
  {
   "cell_type": "markdown",
   "metadata": {},
   "source": [
    "Question 5. Create a function that returns a base-2 (binary) representation of a base-10 (decimal) string number. To convert is simple: ((2) means base-2 and (10) means base-10) 010101001(2) = 1 + 8 + 32 + 128.\n",
    "Going from right to left, the value of the most right bit is 1, now from that every bit to the left will be x2 the value, value of an 8 bit binary numbers are (256, 128, 64, 32, 16, 8, 4, 2, 1).\n",
    "Examples\n",
    "binary(1) ➞ \"1\"\n",
    "\n",
    "1*1 = 1\n",
    "\n",
    "binary(5) ➞ \"101\"\n",
    "1*1 + 1*4 = 5\n",
    "\n",
    "binary(10) ➞ \"1010\"\n",
    "1*2 + 1*8 = 10\n"
   ]
  },
  {
   "cell_type": "code",
   "execution_count": 14,
   "metadata": {},
   "outputs": [
    {
     "name": "stdout",
     "output_type": "stream",
     "text": [
      "Enter Number : 10\n",
      "01010"
     ]
    }
   ],
   "source": [
    "def binary(num):\n",
    "     \n",
    "    if num >= 1:\n",
    "        binary(num // 2)\n",
    "    print(num % 2, end = '')\n",
    "\n",
    "dec_val = int(input(\"Enter Number : \"))\n",
    "binary(dec_val)"
   ]
  },
  {
   "cell_type": "markdown",
   "metadata": {},
   "source": [
    "***"
   ]
  }
 ],
 "metadata": {
  "kernelspec": {
   "display_name": "Python 3",
   "language": "python",
   "name": "python3"
  },
  "language_info": {
   "codemirror_mode": {
    "name": "ipython",
    "version": 3
   },
   "file_extension": ".py",
   "mimetype": "text/x-python",
   "name": "python",
   "nbconvert_exporter": "python",
   "pygments_lexer": "ipython3",
   "version": "3.7.4"
  }
 },
 "nbformat": 4,
 "nbformat_minor": 2
}
