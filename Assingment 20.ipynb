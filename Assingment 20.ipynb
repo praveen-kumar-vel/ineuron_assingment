{
 "cells": [
  {
   "cell_type": "markdown",
   "metadata": {},
   "source": [
    "1. Set the variable test1 to the string 'This is a test of the emergency text system,' and save test1 to a file named test.txt."
   ]
  },
  {
   "cell_type": "code",
   "execution_count": 1,
   "metadata": {},
   "outputs": [],
   "source": [
    "f = open(\"test1.txt\", \"a\")\n",
    "f.write(\"This is a test of the emergency text system,\")\n",
    "f.close()"
   ]
  },
  {
   "cell_type": "markdown",
   "metadata": {},
   "source": [
    "***"
   ]
  },
  {
   "cell_type": "markdown",
   "metadata": {},
   "source": [
    "2. Read the contents of the file test.txt into the variable test2. Is there a difference between test 1 and test 2?"
   ]
  },
  {
   "cell_type": "code",
   "execution_count": 2,
   "metadata": {},
   "outputs": [
    {
     "name": "stdout",
     "output_type": "stream",
     "text": [
      "This is a test of the emergency text system,This is a test of the emergency text system,\n"
     ]
    }
   ],
   "source": [
    "test2 = open(\"test1.txt\", \"r\")\n",
    "print(test2.read())"
   ]
  },
  {
   "cell_type": "markdown",
   "metadata": {},
   "source": [
    "***"
   ]
  },
  {
   "cell_type": "markdown",
   "metadata": {},
   "source": [
    "3. Create a CSV file called books.csv by using these lines:\n",
    "title,author,year\n",
    "The Weirdstone of Brisingamen,Alan Garner,1960\n",
    "Perdido Street Station,China Miéville,2000\n",
    "Thud!,Terry Pratchett,2005\n",
    "The Spellman Files,Lisa Lutz,2007\n",
    "Small Gods,Terry Pratchett,1992\n"
   ]
  },
  {
   "cell_type": "code",
   "execution_count": 3,
   "metadata": {},
   "outputs": [],
   "source": [
    "import csv\n",
    "with open('books.csv', 'w', newline='') as file:\n",
    "    writer = csv.writer(file)\n",
    "    writer.writerow(['title','author','year'])\n",
    "    writer.writerow(['The Weirdstone of Brisingamen','Alan Garner','1960'])\n",
    "    writer.writerow(['Perdido Street Station','China Miéville','2000'])\n",
    "    writer.writerow(['Thud! ','Terry Pratchett','2005'])\n",
    "    writer.writerow(['The Spellman Files','Lisa Lutz','2007'])\n",
    "    writer.writerow(['Small Gods','Terry Pratchett','1992'])"
   ]
  },
  {
   "cell_type": "markdown",
   "metadata": {},
   "source": [
    "***"
   ]
  },
  {
   "cell_type": "markdown",
   "metadata": {},
   "source": [
    "4. Use the sqlite3 module to create a SQLite database called books.db, and a table called books with these fields: title (text), author (text), and year (integer)."
   ]
  },
  {
   "cell_type": "markdown",
   "metadata": {},
   "source": [
    "***"
   ]
  },
  {
   "cell_type": "markdown",
   "metadata": {},
   "source": [
    "5. Read books.csv and insert its data into the book table."
   ]
  },
  {
   "cell_type": "code",
   "execution_count": 4,
   "metadata": {},
   "outputs": [],
   "source": [
    "import sqlite3\n",
    "db = sqlite3.connect('books.db')\n",
    "\n",
    "cursor = db.cursor()\n",
    "cursor.execute('''CREATE TABLE books(title TEXT, author TEXT, year INTEGER)''')\n",
    "db.commit()"
   ]
  },
  {
   "cell_type": "markdown",
   "metadata": {},
   "source": [
    "***"
   ]
  },
  {
   "cell_type": "markdown",
   "metadata": {},
   "source": [
    "5. Read books.csv and insert its data into the book table."
   ]
  },
  {
   "cell_type": "code",
   "execution_count": 6,
   "metadata": {},
   "outputs": [
    {
     "name": "stdout",
     "output_type": "stream",
     "text": [
      "[('title', 'author', 'year'), ('The Weirdstone of Brisingamen', 'Alan Garner', 1960), ('Perdido Street Station', 'China Miéville', 2000), ('Thud! ', 'Terry Pratchett', 2005), ('The Spellman Files', 'Lisa Lutz', 2007), ('Small Gods', 'Terry Pratchett', 1992)]\n"
     ]
    }
   ],
   "source": [
    "con = sqlite3.connect(\"books.db\")\n",
    "cur = con. cursor()\n",
    "a_file = open(\"books.csv\")\n",
    "rows = csv. reader(a_file)\n",
    "cur. executemany(\"INSERT INTO books VALUES (?, ?, ?)\", rows)\n",
    "cur. execute(\"SELECT * FROM books\")\n",
    "print(cur. fetchall())\n",
    "con. commit()"
   ]
  },
  {
   "cell_type": "markdown",
   "metadata": {},
   "source": [
    "***"
   ]
  },
  {
   "cell_type": "markdown",
   "metadata": {},
   "source": [
    "6. Select and print the title column from the book table in alphabetical order."
   ]
  },
  {
   "cell_type": "code",
   "execution_count": 7,
   "metadata": {},
   "outputs": [
    {
     "name": "stdout",
     "output_type": "stream",
     "text": [
      "[('Perdido Street Station', 'China Miéville', 2000), ('Small Gods', 'Terry Pratchett', 1992), ('The Spellman Files', 'Lisa Lutz', 2007), ('The Weirdstone of Brisingamen', 'Alan Garner', 1960), ('Thud! ', 'Terry Pratchett', 2005), ('title', 'author', 'year')]\n"
     ]
    }
   ],
   "source": [
    "cur. execute(\"SELECT * FROM books  ORDER BY title ASC\")\n",
    "print(cur. fetchall())"
   ]
  },
  {
   "cell_type": "markdown",
   "metadata": {},
   "source": [
    "***"
   ]
  },
  {
   "cell_type": "markdown",
   "metadata": {},
   "source": [
    "7. From the book table, select and print all columns in the order of publication."
   ]
  },
  {
   "cell_type": "code",
   "execution_count": 8,
   "metadata": {},
   "outputs": [
    {
     "name": "stdout",
     "output_type": "stream",
     "text": [
      "[('The Weirdstone of Brisingamen', 'Alan Garner', 1960), ('Small Gods', 'Terry Pratchett', 1992), ('Perdido Street Station', 'China Miéville', 2000), ('Thud! ', 'Terry Pratchett', 2005), ('The Spellman Files', 'Lisa Lutz', 2007), ('title', 'author', 'year')]\n"
     ]
    }
   ],
   "source": [
    "cur. execute(\"SELECT * FROM books  ORDER BY year ASC\")\n",
    "print(cur. fetchall())"
   ]
  },
  {
   "cell_type": "markdown",
   "metadata": {},
   "source": [
    "***"
   ]
  },
  {
   "cell_type": "markdown",
   "metadata": {},
   "source": [
    "9. Install the Redis server and the Python redis library (pip install redis) on your computer. Create a Redis hash called test with the fields count (1) and name ('Fester Bestertester'). Print all the fields for test.1. Set the variable test1 to the string 'This is a test of the emergency text system,' and save test1 to a file named test.txt."
   ]
  },
  {
   "cell_type": "code",
   "execution_count": 10,
   "metadata": {},
   "outputs": [
    {
     "name": "stdout",
     "output_type": "stream",
     "text": [
      "Collecting redis\n",
      "  Downloading https://files.pythonhosted.org/packages/a7/7c/24fb0511df653cf1a5d938d8f5d19802a88cef255706fdda242ff97e91b7/redis-3.5.3-py2.py3-none-any.whl (72kB)\n",
      "Installing collected packages: redis\n",
      "Successfully installed redis-3.5.3\n"
     ]
    }
   ],
   "source": [
    "!pip install redis"
   ]
  },
  {
   "cell_type": "code",
   "execution_count": 24,
   "metadata": {},
   "outputs": [
    {
     "name": "stdout",
     "output_type": "stream",
     "text": [
      "Redis<ConnectionPool<Connection<host=localhost,port=6379,db=0>>>\n"
     ]
    }
   ],
   "source": [
    "import redis\n",
    "rs = redis.Redis(\"localhost\")\n",
    "print(rs)"
   ]
  },
  {
   "cell_type": "markdown",
   "metadata": {},
   "source": [
    "***"
   ]
  }
 ],
 "metadata": {
  "kernelspec": {
   "display_name": "Python 3",
   "language": "python",
   "name": "python3"
  },
  "language_info": {
   "codemirror_mode": {
    "name": "ipython",
    "version": 3
   },
   "file_extension": ".py",
   "mimetype": "text/x-python",
   "name": "python",
   "nbconvert_exporter": "python",
   "pygments_lexer": "ipython3",
   "version": "3.7.4"
  }
 },
 "nbformat": 4,
 "nbformat_minor": 2
}
