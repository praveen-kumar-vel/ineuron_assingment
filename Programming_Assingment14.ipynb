{
 "cells": [
  {
   "cell_type": "markdown",
   "metadata": {},
   "source": [
    "Question 1:\n",
    "\n",
    "Define a class with a generator which can iterate the numbers, which are divisible by 7, between a given range 0 and n.\n"
   ]
  },
  {
   "cell_type": "code",
   "execution_count": 2,
   "metadata": {
    "scrolled": true
   },
   "outputs": [
    {
     "name": "stdout",
     "output_type": "stream",
     "text": [
      "0\n",
      "7\n",
      "14\n",
      "21\n",
      "28\n",
      "35\n",
      "42\n",
      "49\n",
      "56\n",
      "63\n",
      "70\n",
      "77\n",
      "84\n",
      "91\n",
      "98\n"
     ]
    }
   ],
   "source": [
    "class iterator(object):\n",
    "    def __init__(self, n):\n",
    "        super(iterator, self).__init__()\n",
    "        self.n = n\n",
    "\n",
    "    def divBySeven(self):\n",
    "        for i in range(0, self.n):\n",
    "            if i % 7 == 0:\n",
    "                yield i\n",
    "\n",
    "for num in iterator(100).divBySeven():\n",
    "    print(num)"
   ]
  },
  {
   "cell_type": "markdown",
   "metadata": {},
   "source": [
    "***"
   ]
  },
  {
   "cell_type": "markdown",
   "metadata": {},
   "source": [
    "Question 2:\n",
    "\n",
    "\n",
    "Write a program to compute the frequency of the words from the input. The output should output after sorting the key alphanumerically. \n",
    "\n",
    "Suppose the following input is supplied to the program:\n",
    "\n",
    "New to Python or choosing between Python 2 and Python 3? Read Python 2 or Python 3.\n",
    "\n",
    "Then, the output should be:\n",
    "\n",
    "2:2\n",
    "\n",
    "3.:1\n",
    "\n",
    "3?:1\n",
    "\n",
    "New:1\n",
    "\n",
    "Python:5\n",
    "\n",
    "Read:1\n",
    "\n",
    "and:1\n",
    "\n",
    "between:1\n",
    "\n",
    "choosing:1\n",
    "\n",
    "or:2\n",
    "\n",
    "to:1\n"
   ]
  },
  {
   "cell_type": "code",
   "execution_count": 3,
   "metadata": {},
   "outputs": [
    {
     "name": "stdout",
     "output_type": "stream",
     "text": [
      "New to Python or choosing between Python 2 and Python 3? Read Python 2 or Python 3.\n",
      "2:2\n",
      "3.:1\n",
      "3?:1\n",
      "New:1\n",
      "Python:5\n",
      "Read:1\n",
      "and:1\n",
      "between:1\n",
      "choosing:1\n",
      "or:2\n",
      "to:1\n"
     ]
    }
   ],
   "source": [
    "ss = input().split()\n",
    "word = sorted(set(ss))\n",
    "for i in word:\n",
    "    print(\"{0}:{1}\".format(i,ss.count(i)))"
   ]
  },
  {
   "cell_type": "markdown",
   "metadata": {},
   "source": [
    "***"
   ]
  },
  {
   "cell_type": "markdown",
   "metadata": {},
   "source": [
    "Question 3:\n",
    "\n",
    "\n",
    "Define a class Person and its two child classes: Male and Female. All classes have a method \"getGender\" which can print \"Male\" for Male class and \"Female\" for Female class."
   ]
  },
  {
   "cell_type": "code",
   "execution_count": 5,
   "metadata": {},
   "outputs": [
    {
     "name": "stdout",
     "output_type": "stream",
     "text": [
      "Male\n",
      "Female\n"
     ]
    }
   ],
   "source": [
    "class Person(object):\n",
    "    def getGender( self ):\n",
    "        return \"Unknown\"\n",
    "\n",
    "class Male( Person ):\n",
    "    def getGender( self ):\n",
    "        return \"Male\"\n",
    "\n",
    "class Female( Person ):\n",
    "    def getGender( self ):\n",
    "        return \"Female\"\n",
    "\n",
    "aMale = Male()\n",
    "aFemale= Female()\n",
    "print(aMale.getGender())\n",
    "print(aFemale.getGender())"
   ]
  },
  {
   "cell_type": "markdown",
   "metadata": {},
   "source": [
    "***"
   ]
  },
  {
   "cell_type": "markdown",
   "metadata": {},
   "source": [
    "Question 4:\n",
    "\n",
    "\n",
    "Please write a program to generate all sentences where subject is in [\"I\", \"You\"] and verb is in [\"Play\", \"Love\"] and the object is in [\"Hockey\",\"Football\"]."
   ]
  },
  {
   "cell_type": "code",
   "execution_count": 6,
   "metadata": {},
   "outputs": [
    {
     "name": "stdout",
     "output_type": "stream",
     "text": [
      "I Play Hockey\n",
      "I Play Football\n",
      "I Love Hockey\n",
      "I Love Football\n",
      "You Play Hockey\n",
      "You Play Football\n",
      "You Love Hockey\n",
      "You Love Football\n"
     ]
    }
   ],
   "source": [
    "subjects=[\"I\", \"You\"]\n",
    "verbs=[\"Play\", \"Love\"]\n",
    "objects=[\"Hockey\",\"Football\"]\n",
    "\n",
    "res = [[i, j, k] for i in subjects  \n",
    "                 for j in verbs \n",
    "                 for k in objects] \n",
    "for x in res:\n",
    "    print(\" \".join(x))"
   ]
  },
  {
   "cell_type": "markdown",
   "metadata": {},
   "source": [
    "***"
   ]
  },
  {
   "cell_type": "markdown",
   "metadata": {},
   "source": [
    "Question 5:\n",
    "\n",
    "\n",
    "Please write a program to compress and decompress the string \"hello world!hello world!hello world!hello world!\"."
   ]
  },
  {
   "cell_type": "code",
   "execution_count": 11,
   "metadata": {},
   "outputs": [
    {
     "name": "stdout",
     "output_type": "stream",
     "text": [
      "b'x\\x9c\\xcbH\\xcd\\xc9\\xc9W(\\xcf/\\xcaIQ\\xcc \\x82\\r\\x00\\xbd[\\x11\\xf5'\n",
      "b'hello world!hello world!hello world!hello world!'\n"
     ]
    }
   ],
   "source": [
    "import zlib\n",
    "s = 'hello world!hello world!hello world!hello world!'\n",
    "y = bytes(s, 'utf-8')\n",
    "x = zlib.compress(y)\n",
    "print(x)\n",
    "print(zlib.decompress(x))"
   ]
  },
  {
   "cell_type": "markdown",
   "metadata": {},
   "source": [
    "***"
   ]
  },
  {
   "cell_type": "markdown",
   "metadata": {},
   "source": [
    "Question 6:\n",
    "\n",
    "Please write a binary search function which searches an item in a sorted list. The function should return the index of element to be searched in the list.\n"
   ]
  },
  {
   "cell_type": "code",
   "execution_count": 12,
   "metadata": {},
   "outputs": [
    {
     "name": "stdout",
     "output_type": "stream",
     "text": [
      "First occurrence of 4 is present at 2\n"
     ]
    }
   ],
   "source": [
    "from bisect import bisect_left\n",
    "  \n",
    "def BinarySearch(a, x):\n",
    "    i = bisect_left(a, x)\n",
    "    if i != len(a) and a[i] == x:\n",
    "        return i\n",
    "    else:\n",
    "        return -1\n",
    "\n",
    "a  = [1, 2, 4, 4, 8]\n",
    "x = int(4)\n",
    "res = BinarySearch(a, x)\n",
    "if res == -1:\n",
    "    print(x, \"is absent\")\n",
    "else:\n",
    "    print(\"First occurrence of\", x, \"is present at\", res)"
   ]
  },
  {
   "cell_type": "code",
   "execution_count": null,
   "metadata": {},
   "outputs": [],
   "source": []
  }
 ],
 "metadata": {
  "kernelspec": {
   "display_name": "Python 3",
   "language": "python",
   "name": "python3"
  },
  "language_info": {
   "codemirror_mode": {
    "name": "ipython",
    "version": 3
   },
   "file_extension": ".py",
   "mimetype": "text/x-python",
   "name": "python",
   "nbconvert_exporter": "python",
   "pygments_lexer": "ipython3",
   "version": "3.7.4"
  }
 },
 "nbformat": 4,
 "nbformat_minor": 2
}
